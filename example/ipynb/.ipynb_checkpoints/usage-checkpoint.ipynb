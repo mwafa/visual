{
 "cells": [
  {
   "cell_type": "markdown",
   "metadata": {},
   "source": [
    "# Penggunaan Sederhana"
   ]
  },
  {
   "cell_type": "code",
   "execution_count": 2,
   "metadata": {},
   "outputs": [],
   "source": [
    "from visTF import uts\n",
    "\n",
    "image = uts.bulat('../image/example.jpg')\n",
    "image.make()"
   ]
  },
  {
   "cell_type": "markdown",
   "metadata": {},
   "source": [
    "# Setiing Ukuran Lingkaran"
   ]
  },
  {
   "cell_type": "code",
   "execution_count": 4,
   "metadata": {},
   "outputs": [],
   "source": [
    "image.setting(20,20)\n",
    "image.make()"
   ]
  },
  {
   "cell_type": "markdown",
   "metadata": {},
   "source": [
    "# Simpan hasil gambar"
   ]
  },
  {
   "cell_type": "code",
   "execution_count": 5,
   "metadata": {},
   "outputs": [],
   "source": [
    "image.simpan('../result/gambar_capung.jpg')"
   ]
  },
  {
   "cell_type": "markdown",
   "metadata": {},
   "source": [
    "![gambar-capung](../result/gambar_capung.jpg)"
   ]
  },
  {
   "cell_type": "markdown",
   "metadata": {},
   "source": [
    "# Bantuan"
   ]
  },
  {
   "cell_type": "code",
   "execution_count": 6,
   "metadata": {},
   "outputs": [
    {
     "name": "stdout",
     "output_type": "stream",
     "text": [
      "Help on module visTF.uts in visTF:\n",
      "\n",
      "NAME\n",
      "    visTF.uts\n",
      "\n",
      "CLASSES\n",
      "    builtins.object\n",
      "        bulat\n",
      "    \n",
      "    class bulat(builtins.object)\n",
      "     |  Bulat merupakan funsi yang digunakan untuk membuat efek bulat-bulat.\n",
      "     |  \n",
      "     |  Methods defined here:\n",
      "     |  \n",
      "     |  __init__(self, lokasi='../image/wajah.jpg')\n",
      "     |      Initialize self.  See help(type(self)) for accurate signature.\n",
      "     |  \n",
      "     |  make(self)\n",
      "     |  \n",
      "     |  set_loc(self, lokasi)\n",
      "     |  \n",
      "     |  setting(self, s=20, r=10, win=0)\n",
      "     |  \n",
      "     |  simpan(self, loc='')\n",
      "     |  \n",
      "     |  ----------------------------------------------------------------------\n",
      "     |  Data descriptors defined here:\n",
      "     |  \n",
      "     |  __dict__\n",
      "     |      dictionary for instance variables (if defined)\n",
      "     |  \n",
      "     |  __weakref__\n",
      "     |      list of weak references to the object (if defined)\n",
      "\n",
      "FILE\n",
      "    d:\\python\\python-3.6.4\\lib\\site-packages\\vistf\\uts.py\n",
      "\n",
      "\n"
     ]
    }
   ],
   "source": [
    "help(uts)"
   ]
  }
 ],
 "metadata": {
  "kernelspec": {
   "display_name": "Python 3",
   "language": "python",
   "name": "python3"
  },
  "language_info": {
   "codemirror_mode": {
    "name": "ipython",
    "version": 3
   },
   "file_extension": ".py",
   "mimetype": "text/x-python",
   "name": "python",
   "nbconvert_exporter": "python",
   "pygments_lexer": "ipython3",
   "version": "3.6.4"
  }
 },
 "nbformat": 4,
 "nbformat_minor": 2
}
