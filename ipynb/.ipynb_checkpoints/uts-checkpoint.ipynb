{
 "cells": [
  {
   "cell_type": "code",
   "execution_count": 2,
   "metadata": {
    "collapsed": true
   },
   "outputs": [],
   "source": [
    "import numpy as np\n",
    "import cv2\n",
    "\n"
   ]
  },
  {
   "cell_type": "code",
   "execution_count": null,
   "metadata": {
    "collapsed": false
   },
   "outputs": [],
   "source": [
    "img = cv2.imread('../image/grite_2.jpg')\n",
    "\n",
    "gambar = cv2.cvtColor(img, cv2.COLOR_BGR2GRAY)\n",
    "\n",
    "\n",
    "cv2.imshow('gabar',salala)\n",
    "\n",
    "\n",
    "cv2.waitKey(0)\n",
    "cv2.destroyAllWindows()"
   ]
  },
  {
   "cell_type": "code",
   "execution_count": 99,
   "metadata": {
    "collapsed": false
   },
   "outputs": [],
   "source": [
    "salala = np.zeros((len(gambar),len(gambar[1]),3), np.uint8)\n",
    "\n",
    "a = 10\n",
    "for i in range(0,len(salala),a)[:-1]:\n",
    "    x1 = i\n",
    "    x2 = i+a\n",
    "    for j in range(0,len(salala[1]),a)[:-1]:\n",
    "        y1 = j\n",
    "        y2 = j+a\n",
    "        hasil =  int(np.average(gambar[x1:x2,y1:y2])*5/255)\n",
    "        cv2.circle(salala,((y1+y2)/2,(x1+x2)/2),hasil,(244,23,54))\n",
    "    \n",
    "    "
   ]
  },
  {
   "cell_type": "code",
   "execution_count": 164,
   "metadata": {
    "collapsed": false
   },
   "outputs": [],
   "source": [
    "salala = np.zeros((len(gambar),len(gambar[1]),3), np.uint8)\n",
    "\n",
    "a = 10\n",
    "for i in range(0,len(salala),a)[:-1]:\n",
    "    x1 = i\n",
    "    x2 = i+a\n",
    "    for j in range(0,len(salala[1]),a)[:-1]:\n",
    "        y1 = j\n",
    "        y2 = j+a\n",
    "        hasil =  int(np.average(gambar[x1:x2,y1:y2])*5/255)\n",
    "        cv2.circle(salala,((y1+y2)/2,(x1+x2)/2),hasil,(244,23,54))\n"
   ]
  },
  {
   "cell_type": "code",
   "execution_count": null,
   "metadata": {
    "collapsed": true
   },
   "outputs": [],
   "source": []
  }
 ],
 "metadata": {
  "kernelspec": {
   "display_name": "Python 2",
   "language": "python",
   "name": "python2"
  },
  "language_info": {
   "codemirror_mode": {
    "name": "ipython",
    "version": 2
   },
   "file_extension": ".py",
   "mimetype": "text/x-python",
   "name": "python",
   "nbconvert_exporter": "python",
   "pygments_lexer": "ipython2",
   "version": "2.7.10"
  }
 },
 "nbformat": 4,
 "nbformat_minor": 0
}
