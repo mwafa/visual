{
 "cells": [
  {
   "cell_type": "code",
   "execution_count": 1,
   "metadata": {},
   "outputs": [],
   "source": [
    "from random import randint as rand"
   ]
  },
  {
   "cell_type": "code",
   "execution_count": 7,
   "metadata": {},
   "outputs": [
    {
     "name": "stdout",
     "output_type": "stream",
     "text": [
      "wafa,9\n",
      "wafa,18\n",
      "wafa,23\n",
      "wafa,12\n",
      "wafa,16\n",
      "nowafa,1\n",
      "wafa,45\n",
      "wafa,47\n",
      "nowafa,0\n",
      "nowafa,16\n",
      "wafa,12\n",
      "nowafa,32\n",
      "nowafa,26\n",
      "nowafa,2\n",
      "nowafa,20\n",
      "wafa,31\n",
      "wafa,22\n",
      "wafa,0\n",
      "nowafa,3\n",
      "wafa,9\n"
     ]
    }
   ],
   "source": [
    "data = \"\\n\".join([['wafa','nowafa'][rand(0,1)]+\",\"+str(rand(0,50)) for i in range(20)])\n",
    "print(data)"
   ]
  },
  {
   "cell_type": "code",
   "execution_count": 11,
   "metadata": {},
   "outputs": [
    {
     "name": "stdout",
     "output_type": "stream",
     "text": [
      "{'wafa': [9, 18, 23, 12, 16, 45, 47, 12, 31, 22, 0, 9], 'nowafa': [1, 0, 16, 32, 26, 2, 20, 3]}\n"
     ]
    }
   ],
   "source": [
    "raw = data.split(\"\\n\")\n",
    "hasil = {}\n",
    "for i in raw:\n",
    "    la = i.split(',')\n",
    "    if(la[0] in hasil.keys()):\n",
    "        hasil[la[0]] += [int(la[1])]\n",
    "    else:\n",
    "        hasil[la[0]] = [int(la[1])]\n",
    "print(hasil)"
   ]
  }
 ],
 "metadata": {
  "kernelspec": {
   "display_name": "Python 3",
   "language": "python",
   "name": "python3"
  },
  "language_info": {
   "codemirror_mode": {
    "name": "ipython",
    "version": 3
   },
   "file_extension": ".py",
   "mimetype": "text/x-python",
   "name": "python",
   "nbconvert_exporter": "python",
   "pygments_lexer": "ipython3",
   "version": "3.6.4"
  }
 },
 "nbformat": 4,
 "nbformat_minor": 2
}
